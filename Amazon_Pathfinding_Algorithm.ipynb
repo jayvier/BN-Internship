{
  "nbformat": 4,
  "nbformat_minor": 0,
  "metadata": {
    "colab": {
      "name": "Amazon Pathfinding Algorithm.ipynb",
      "provenance": [],
      "collapsed_sections": [],
      "authorship_tag": "ABX9TyORzkXp/KfUU2IyKm549hEn",
      "include_colab_link": true
    },
    "kernelspec": {
      "name": "python3",
      "display_name": "Python 3"
    },
    "language_info": {
      "name": "python"
    }
  },
  "cells": [
    {
      "cell_type": "markdown",
      "metadata": {
        "id": "view-in-github",
        "colab_type": "text"
      },
      "source": [
        "<a href=\"https://colab.research.google.com/github/jayvier/BN-Internship/blob/main/Amazon_Pathfinding_Algorithm.ipynb\" target=\"_parent\"><img src=\"https://colab.research.google.com/assets/colab-badge.svg\" alt=\"Open In Colab\"/></a>"
      ]
    },
    {
      "cell_type": "markdown",
      "source": [
        "## Phase 1\n",
        "Initialize a 10x10 grid and set start and end points."
      ],
      "metadata": {
        "id": "ywlZsfc24eGb"
      }
    },
    {
      "cell_type": "code",
      "execution_count": null,
      "metadata": {
        "colab": {
          "base_uri": "https://localhost:8080/"
        },
        "id": "nrSxuOgU3SfO",
        "outputId": "6d1606fa-96d9-4b83-8c48-c42ce44fd7a1"
      },
      "outputs": [
        {
          "output_type": "execute_result",
          "data": {
            "text/plain": [
              "array([[0, 0, 0, 0, 0, 0, 0, 0, 0, 0],\n",
              "       [0, 0, 0, 0, 0, 0, 0, 0, 0, 0],\n",
              "       [0, 0, 0, 0, 0, 0, 0, 0, 0, 0],\n",
              "       [0, 0, 0, 0, 0, 0, 0, 0, 0, 0],\n",
              "       [0, 0, 0, 0, 0, 0, 0, 0, 0, 0],\n",
              "       [0, 0, 0, 0, 0, 0, 0, 0, 0, 0],\n",
              "       [0, 0, 0, 0, 0, 0, 0, 0, 0, 0],\n",
              "       [0, 0, 0, 0, 0, 0, 0, 1, 1, 1],\n",
              "       [0, 0, 0, 0, 0, 0, 0, 1, 0, 0],\n",
              "       [0, 0, 0, 0, 0, 0, 0, 0, 0, 0]])"
            ]
          },
          "metadata": {},
          "execution_count": 1
        }
      ],
      "source": [
        "import numpy as np\n",
        "\n",
        "start = (0,0)\n",
        "end = (9,9)\n",
        "obstacles = [(9,7),(8,7),(7,7),(7,8)]\n",
        "\n",
        "def initialize_grid(obs=obstacles):\n",
        "  grid = np.zeros((10,10), dtype=int)\n",
        "  for i in obs:\n",
        "    grid[i] = 1\n",
        "\n",
        "  return np.transpose(grid)\n",
        "\n",
        "initialize_grid()"
      ]
    },
    {
      "cell_type": "markdown",
      "source": [
        "Create a node class."
      ],
      "metadata": {
        "id": "0BLyJTezW9SC"
      }
    },
    {
      "cell_type": "code",
      "source": [
        "class Node():\n",
        "  def __init__(self, parent=None, position=None):\n",
        "    self.parent = parent\n",
        "    self.position = position\n",
        "\n",
        "    self.g = 0   # distance from start\n",
        "    self.h = 0   # distance from end\n",
        "    self.f = 0   # sum of h and g\n",
        "  \n",
        "  def __eq__(self, other):\n",
        "    return self.position == other.position\n"
      ],
      "metadata": {
        "id": "uB4Sw50TW8Za"
      },
      "execution_count": 30,
      "outputs": []
    },
    {
      "cell_type": "markdown",
      "source": [
        "A star algorithm."
      ],
      "metadata": {
        "id": "prheaPvuZza-"
      }
    },
    {
      "cell_type": "code",
      "source": [
        "def find_path(obs=obstacles):\n",
        "\n",
        "  start_node = Node(None, start)  # create a node with starting position\n",
        "  start_node.g = start_node.h = start_node.f = 0\n",
        "  end_node = Node(None, end)\n",
        "  end_node.g = end_node.h = end_node.f = 0\n",
        "\n",
        "  grid = initialize_grid(obs)\n",
        "\n",
        "  list1 = []\n",
        "  list2 = []\n",
        "  list1.append(start_node)\n",
        "\n",
        "  # Loop until you find the end\n",
        "  while len(list1) > 0:\n",
        "\n",
        "      # Get the current node\n",
        "      current_node = list1[0]\n",
        "      current_index = 0\n",
        "      for index, item in enumerate(list1):\n",
        "          if item.f < current_node.f:\n",
        "              current_node = item\n",
        "              current_index = index\n",
        "\n",
        "      # Pop current off open list, add to closed list\n",
        "      list1.pop(current_index)\n",
        "      list2.append(current_node)\n",
        "\n",
        "      # Found the goal\n",
        "      if current_node == end_node:\n",
        "          path = []\n",
        "          current = current_node\n",
        "          while current is not None:\n",
        "              path.append(current.position)\n",
        "              current = current.parent\n",
        "          return path[::-1] # Return reversed path\n",
        "\n",
        "      # Generate children\n",
        "      children = []\n",
        "      for new_position in [(0, -1), (0, 1), (-1, 0), (1, 0), (-1, -1), (-1, 1), (1, -1), (1, 1)]: \n",
        "\n",
        "        # Get node position\n",
        "        node_position = (current_node.position[0] + new_position[0], current_node.position[1] + new_position[1])\n",
        "\n",
        "        # Make sure within grid\n",
        "        if node_position[0] > (len(grid) - 1) or node_position[0] < 0 or node_position[1] > (len(grid[len(grid)-1]) -1) or node_position[1] < 0:\n",
        "            continue\n",
        "\n",
        "        # Make sure walkable terrain\n",
        "        if grid[node_position[0]][node_position[1]] != 0:\n",
        "            continue\n",
        "\n",
        "        # Create new node\n",
        "        new_node = Node(current_node, node_position)\n",
        "\n",
        "        # Append\n",
        "        children.append(new_node)\n",
        "\n",
        "      # Loop through children\n",
        "      for child in children:\n",
        "\n",
        "        # Child is on the closed list\n",
        "        for closed_child in list2:\n",
        "          if child == closed_child:\n",
        "            continue\n",
        "\n",
        "        # Create the f, g, and h values\n",
        "        child.g = current_node.g + 1\n",
        "        child.h = ((child.position[0] - end_node.position[0]) ** 2) + ((child.position[1] - end_node.position[1]) ** 2)\n",
        "        child.f = child.g + child.h\n",
        "\n",
        "        # Child is already in the open list\n",
        "        for open_node in list1:\n",
        "          if child == open_node and child.g > open_node.g:\n",
        "            continue\n",
        "\n",
        "          # Add the child to the open list\n",
        "        list1.append(child)\n",
        "\n",
        "\n",
        "\n",
        "  # position = np.array(start)\n",
        "  # path = []\n",
        "  # path.append(start)\n",
        "  # while len(path)>0:\n",
        "  #   current_pos = path[0]\n",
        "\n",
        "  return \n",
        "\n",
        "\n",
        "find_path()"
      ],
      "metadata": {
        "colab": {
          "base_uri": "https://localhost:8080/"
        },
        "id": "ayd4fhcq4uMw",
        "outputId": "51fb26a6-0300-4725-a39b-ebe92edd8f61"
      },
      "execution_count": 31,
      "outputs": [
        {
          "output_type": "execute_result",
          "data": {
            "text/plain": [
              "[(0, 0),\n",
              " (1, 1),\n",
              " (2, 2),\n",
              " (3, 3),\n",
              " (4, 4),\n",
              " (5, 5),\n",
              " (6, 6),\n",
              " (7, 6),\n",
              " (8, 6),\n",
              " (9, 7),\n",
              " (9, 8),\n",
              " (9, 9)]"
            ]
          },
          "metadata": {},
          "execution_count": 31
        }
      ]
    },
    {
      "cell_type": "code",
      "source": [
        "path = find_path(obstacles)\n",
        "path"
      ],
      "metadata": {
        "colab": {
          "base_uri": "https://localhost:8080/"
        },
        "id": "bVx43HMTrwO-",
        "outputId": "8339537f-8153-49ef-aec4-a171c49c4dae"
      },
      "execution_count": 27,
      "outputs": [
        {
          "output_type": "execute_result",
          "data": {
            "text/plain": [
              "[(0, 0),\n",
              " (1, 1),\n",
              " (2, 2),\n",
              " (3, 3),\n",
              " (4, 4),\n",
              " (5, 5),\n",
              " (6, 6),\n",
              " (7, 6),\n",
              " (8, 6),\n",
              " (9, 7),\n",
              " (9, 8),\n",
              " (9, 9)]"
            ]
          },
          "metadata": {},
          "execution_count": 27
        }
      ]
    },
    {
      "cell_type": "code",
      "source": [
        ""
      ],
      "metadata": {
        "id": "CabRBkgbWz54"
      },
      "execution_count": null,
      "outputs": []
    }
  ]
}